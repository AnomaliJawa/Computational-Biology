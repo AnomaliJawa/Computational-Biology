{
  "nbformat": 4,
  "nbformat_minor": 0,
  "metadata": {
    "colab": {
      "provenance": [],
      "authorship_tag": "ABX9TyMu8uOYWK9i/L6U4r43j8uq",
      "include_colab_link": true
    },
    "kernelspec": {
      "name": "python3",
      "display_name": "Python 3"
    },
    "language_info": {
      "name": "python"
    }
  },
  "cells": [
    {
      "cell_type": "markdown",
      "metadata": {
        "id": "view-in-github",
        "colab_type": "text"
      },
      "source": [
        "<a href=\"https://colab.research.google.com/github/AnomaliJawa/Computational-Biology/blob/main/Material03.ipynb\" target=\"_parent\"><img src=\"https://colab.research.google.com/assets/colab-badge.svg\" alt=\"Open In Colab\"/></a>"
      ]
    },
    {
      "cell_type": "code",
      "execution_count": null,
      "metadata": {
        "colab": {
          "base_uri": "https://localhost:8080/"
        },
        "id": "95-3qKkqelfJ",
        "outputId": "ff5d012c-0f26-4ee3-8589-8f3e7be19b08"
      },
      "outputs": [
        {
          "output_type": "stream",
          "name": "stdout",
          "text": [
            "Collecting py3Dmol==2.0.1.post1\n",
            "  Using cached py3Dmol-2.0.1.post1-py2.py3-none-any.whl.metadata (2.1 kB)\n",
            "Downloading py3Dmol-2.0.1.post1-py2.py3-none-any.whl (12 kB)\n",
            "Installing collected packages: py3Dmol\n",
            "Successfully installed py3Dmol-2.0.1.post1\n"
          ]
        }
      ],
      "source": [
        "pip install py3Dmol==2.0.1.post1"
      ]
    },
    {
      "cell_type": "code",
      "source": [
        "pip install python-Levenshtein==0.20.9"
      ],
      "metadata": {
        "colab": {
          "base_uri": "https://localhost:8080/"
        },
        "id": "08ZYdB9vfqc_",
        "outputId": "4e016f38-fc55-43e4-e73a-79c9be64c932"
      },
      "execution_count": null,
      "outputs": [
        {
          "output_type": "stream",
          "name": "stdout",
          "text": [
            "Collecting python-Levenshtein==0.20.9\n",
            "  Using cached python_Levenshtein-0.20.9-py3-none-any.whl.metadata (3.8 kB)\n",
            "Collecting Levenshtein==0.20.9 (from python-Levenshtein==0.20.9)\n",
            "  Downloading Levenshtein-0.20.9-cp311-cp311-manylinux_2_17_x86_64.manylinux2014_x86_64.whl.metadata (3.4 kB)\n",
            "Collecting rapidfuzz<3.0.0,>=2.3.0 (from Levenshtein==0.20.9->python-Levenshtein==0.20.9)\n",
            "  Downloading rapidfuzz-2.15.2-cp311-cp311-manylinux_2_17_x86_64.manylinux2014_x86_64.whl.metadata (9.0 kB)\n",
            "Downloading python_Levenshtein-0.20.9-py3-none-any.whl (9.4 kB)\n",
            "Downloading Levenshtein-0.20.9-cp311-cp311-manylinux_2_17_x86_64.manylinux2014_x86_64.whl (173 kB)\n",
            "\u001b[2K   \u001b[90m━━━━━━━━━━━━━━━━━━━━━━━━━━━━━━━━━━━━━━━━\u001b[0m \u001b[32m174.0/174.0 kB\u001b[0m \u001b[31m3.8 MB/s\u001b[0m eta \u001b[36m0:00:00\u001b[0m\n",
            "\u001b[?25hDownloading rapidfuzz-2.15.2-cp311-cp311-manylinux_2_17_x86_64.manylinux2014_x86_64.whl (3.0 MB)\n",
            "\u001b[2K   \u001b[90m━━━━━━━━━━━━━━━━━━━━━━━━━━━━━━━━━━━━━━━━\u001b[0m \u001b[32m3.0/3.0 MB\u001b[0m \u001b[31m35.4 MB/s\u001b[0m eta \u001b[36m0:00:00\u001b[0m\n",
            "\u001b[?25hInstalling collected packages: rapidfuzz, Levenshtein, python-Levenshtein\n",
            "Successfully installed Levenshtein-0.20.9 python-Levenshtein-0.20.9 rapidfuzz-2.15.2\n"
          ]
        }
      ]
    },
    {
      "cell_type": "code",
      "source": [
        "pip install matplotlib==3.5.3"
      ],
      "metadata": {
        "colab": {
          "base_uri": "https://localhost:8080/"
        },
        "id": "PoACpVrMfwZC",
        "outputId": "646ad8d9-ec0c-44bb-9f6a-b160e189f840"
      },
      "execution_count": null,
      "outputs": [
        {
          "output_type": "stream",
          "name": "stdout",
          "text": [
            "Requirement already satisfied: matplotlib==3.5.3 in /usr/local/lib/python3.11/dist-packages (3.5.3)\n",
            "Requirement already satisfied: cycler>=0.10 in /usr/local/lib/python3.11/dist-packages (from matplotlib==3.5.3) (0.12.1)\n",
            "Requirement already satisfied: fonttools>=4.22.0 in /usr/local/lib/python3.11/dist-packages (from matplotlib==3.5.3) (4.56.0)\n",
            "Requirement already satisfied: kiwisolver>=1.0.1 in /usr/local/lib/python3.11/dist-packages (from matplotlib==3.5.3) (1.4.8)\n",
            "Requirement already satisfied: numpy>=1.17 in /usr/local/lib/python3.11/dist-packages (from matplotlib==3.5.3) (1.26.4)\n",
            "Requirement already satisfied: packaging>=20.0 in /usr/local/lib/python3.11/dist-packages (from matplotlib==3.5.3) (24.2)\n",
            "Requirement already satisfied: pillow>=6.2.0 in /usr/local/lib/python3.11/dist-packages (from matplotlib==3.5.3) (11.1.0)\n",
            "Requirement already satisfied: pyparsing>=2.2.1 in /usr/local/lib/python3.11/dist-packages (from matplotlib==3.5.3) (3.2.1)\n",
            "Requirement already satisfied: python-dateutil>=2.7 in /usr/local/lib/python3.11/dist-packages (from matplotlib==3.5.3) (2.8.2)\n",
            "Requirement already satisfied: six>=1.5 in /usr/local/lib/python3.11/dist-packages (from python-dateutil>=2.7->matplotlib==3.5.3) (1.17.0)\n"
          ]
        }
      ]
    },
    {
      "cell_type": "code",
      "source": [
        "pip install numpy==1.26.4"
      ],
      "metadata": {
        "colab": {
          "base_uri": "https://localhost:8080/"
        },
        "id": "vLINpB6SgkAC",
        "outputId": "79509116-d9ec-46e6-a7ef-13bf02a10919"
      },
      "execution_count": null,
      "outputs": [
        {
          "output_type": "stream",
          "name": "stdout",
          "text": [
            "Requirement already satisfied: numpy==1.26.4 in /usr/local/lib/python3.11/dist-packages (1.26.4)\n"
          ]
        }
      ]
    },
    {
      "cell_type": "code",
      "source": [
        "pip install biopython==1.78"
      ],
      "metadata": {
        "colab": {
          "base_uri": "https://localhost:8080/"
        },
        "id": "4QK9MaT2g34C",
        "outputId": "a8db4cb6-aefd-4003-f1d3-e32d013a80d8"
      },
      "execution_count": null,
      "outputs": [
        {
          "output_type": "stream",
          "name": "stdout",
          "text": [
            "Collecting biopython==1.78\n",
            "  Downloading biopython-1.78.tar.gz (16.9 MB)\n",
            "\u001b[2K     \u001b[90m━━━━━━━━━━━━━━━━━━━━━━━━━━━━━━━━━━━━━━━━\u001b[0m \u001b[32m16.9/16.9 MB\u001b[0m \u001b[31m55.0 MB/s\u001b[0m eta \u001b[36m0:00:00\u001b[0m\n",
            "\u001b[?25h  Preparing metadata (setup.py) ... \u001b[?25l\u001b[?25hdone\n",
            "Requirement already satisfied: numpy in /usr/local/lib/python3.11/dist-packages (from biopython==1.78) (1.26.4)\n",
            "Building wheels for collected packages: biopython\n",
            "  Building wheel for biopython (setup.py) ... \u001b[?25l\u001b[?25hdone\n",
            "  Created wheel for biopython: filename=biopython-1.78-cp311-cp311-linux_x86_64.whl size=2527264 sha256=2ba44ac949423d500e31713d388f6d2a7d0eb7e72d2b80df210d9b05dfac63fe\n",
            "  Stored in directory: /root/.cache/pip/wheels/ca/09/da/77d9ed7c7ad07643933fcb68c45e07acd9b61de4436ee4be7b\n",
            "Successfully built biopython\n",
            "Installing collected packages: biopython\n",
            "Successfully installed biopython-1.78\n"
          ]
        }
      ]
    },
    {
      "cell_type": "code",
      "source": [
        "# import library\n",
        "from Bio.Seq import Seq"
      ],
      "metadata": {
        "id": "JXzvySfxhJBZ"
      },
      "execution_count": null,
      "outputs": []
    },
    {
      "cell_type": "code",
      "source": [
        "coding_strand = Seq('ATCGATACTGATCGATGC')\n",
        "print(coding_strand)"
      ],
      "metadata": {
        "colab": {
          "base_uri": "https://localhost:8080/"
        },
        "id": "eQLtIiMJhNfQ",
        "outputId": "92952190-4f8f-45fd-bf2b-344b329ac11e"
      },
      "execution_count": null,
      "outputs": [
        {
          "output_type": "stream",
          "name": "stdout",
          "text": [
            "ATCGATACTGATCGATGC\n"
          ]
        }
      ]
    },
    {
      "cell_type": "code",
      "source": [
        "# complement -> Mencari pasangan basa nukleotida\n",
        "template_strand = coding_strand.complement()\n",
        "print(template_strand)\n",
        "\n",
        "# transkripsi ->Biopython mengubah T menjadi U\n",
        "mRNA = coding_strand.transcribe()\n",
        "print(mRNA)\n",
        "\n",
        "# Translate (Translasi)\n",
        "amino_acid = mRNA.translate()\n",
        "print(amino_acid)"
      ],
      "metadata": {
        "colab": {
          "base_uri": "https://localhost:8080/"
        },
        "id": "S6u4htOvhWCT",
        "outputId": "829d83fe-7f02-4b06-d37a-373bea9a4678"
      },
      "execution_count": null,
      "outputs": [
        {
          "output_type": "stream",
          "name": "stdout",
          "text": [
            "TAGCTATGACTAGCTACG\n",
            "AUCGAUACUGAUCGAUGC\n",
            "IDTDRC\n"
          ]
        }
      ]
    },
    {
      "cell_type": "code",
      "source": [
        "from Bio.SeqUtils import seq3,seq1\n",
        "protein_name = seq3(amino_acid)\n",
        "print(protein_name)\n",
        "print(seq1(amino_acid))"
      ],
      "metadata": {
        "colab": {
          "base_uri": "https://localhost:8080/"
        },
        "id": "67FBk4RzhaEO",
        "outputId": "08bd7084-0cb2-4a8a-972e-ea14ab49ce0f"
      },
      "execution_count": null,
      "outputs": [
        {
          "output_type": "stream",
          "name": "stdout",
          "text": [
            "IleAspThrAspArgCys\n",
            "XX\n"
          ]
        }
      ]
    },
    {
      "cell_type": "code",
      "source": [
        "# Back Transcribe -> Mengubah kembali strand mRNA balik kembali menjadi DNA\n",
        "toDNA = mRNA.back_transcribe()\n",
        "print(mRNA)"
      ],
      "metadata": {
        "colab": {
          "base_uri": "https://localhost:8080/"
        },
        "id": "HAvFONoBhdgk",
        "outputId": "9beead5b-50a5-4400-aca9-e20f48a43e68"
      },
      "execution_count": null,
      "outputs": [
        {
          "output_type": "stream",
          "name": "stdout",
          "text": [
            "AUCGAUACUGAUCGAUGC\n"
          ]
        }
      ]
    },
    {
      "cell_type": "code",
      "source": [
        "from Bio.Data import CodonTable\n",
        "print(CodonTable.unambiguous_dna_by_name['Standard'])"
      ],
      "metadata": {
        "colab": {
          "base_uri": "https://localhost:8080/"
        },
        "id": "QenYbYlwhkFv",
        "outputId": "52677fcc-f333-4467-ac07-0a6a00495fab"
      },
      "execution_count": null,
      "outputs": [
        {
          "output_type": "stream",
          "name": "stdout",
          "text": [
            "Table 1 Standard, SGC0\n",
            "\n",
            "  |  T      |  C      |  A      |  G      |\n",
            "--+---------+---------+---------+---------+--\n",
            "T | TTT F   | TCT S   | TAT Y   | TGT C   | T\n",
            "T | TTC F   | TCC S   | TAC Y   | TGC C   | C\n",
            "T | TTA L   | TCA S   | TAA Stop| TGA Stop| A\n",
            "T | TTG L(s)| TCG S   | TAG Stop| TGG W   | G\n",
            "--+---------+---------+---------+---------+--\n",
            "C | CTT L   | CCT P   | CAT H   | CGT R   | T\n",
            "C | CTC L   | CCC P   | CAC H   | CGC R   | C\n",
            "C | CTA L   | CCA P   | CAA Q   | CGA R   | A\n",
            "C | CTG L(s)| CCG P   | CAG Q   | CGG R   | G\n",
            "--+---------+---------+---------+---------+--\n",
            "A | ATT I   | ACT T   | AAT N   | AGT S   | T\n",
            "A | ATC I   | ACC T   | AAC N   | AGC S   | C\n",
            "A | ATA I   | ACA T   | AAA K   | AGA R   | A\n",
            "A | ATG M(s)| ACG T   | AAG K   | AGG R   | G\n",
            "--+---------+---------+---------+---------+--\n",
            "G | GTT V   | GCT A   | GAT D   | GGT G   | T\n",
            "G | GTC V   | GCC A   | GAC D   | GGC G   | C\n",
            "G | GTA V   | GCA A   | GAA E   | GGA G   | A\n",
            "G | GTG V   | GCG A   | GAG E   | GGG G   | G\n",
            "--+---------+---------+---------+---------+--\n"
          ]
        }
      ]
    },
    {
      "cell_type": "code",
      "source": [
        "print(CodonTable.unambiguous_rna_by_name['Standard'])"
      ],
      "metadata": {
        "colab": {
          "base_uri": "https://localhost:8080/"
        },
        "id": "PJt-X-9Ehmx-",
        "outputId": "e3b20cec-5e3d-40f6-e02a-ac1d9646ed51"
      },
      "execution_count": null,
      "outputs": [
        {
          "output_type": "stream",
          "name": "stdout",
          "text": [
            "Table 1 Standard, SGC0\n",
            "\n",
            "  |  U      |  C      |  A      |  G      |\n",
            "--+---------+---------+---------+---------+--\n",
            "U | UUU F   | UCU S   | UAU Y   | UGU C   | U\n",
            "U | UUC F   | UCC S   | UAC Y   | UGC C   | C\n",
            "U | UUA L   | UCA S   | UAA Stop| UGA Stop| A\n",
            "U | UUG L(s)| UCG S   | UAG Stop| UGG W   | G\n",
            "--+---------+---------+---------+---------+--\n",
            "C | CUU L   | CCU P   | CAU H   | CGU R   | U\n",
            "C | CUC L   | CCC P   | CAC H   | CGC R   | C\n",
            "C | CUA L   | CCA P   | CAA Q   | CGA R   | A\n",
            "C | CUG L(s)| CCG P   | CAG Q   | CGG R   | G\n",
            "--+---------+---------+---------+---------+--\n",
            "A | AUU I   | ACU T   | AAU N   | AGU S   | U\n",
            "A | AUC I   | ACC T   | AAC N   | AGC S   | C\n",
            "A | AUA I   | ACA T   | AAA K   | AGA R   | A\n",
            "A | AUG M(s)| ACG T   | AAG K   | AGG R   | G\n",
            "--+---------+---------+---------+---------+--\n",
            "G | GUU V   | GCU A   | GAU D   | GGU G   | U\n",
            "G | GUC V   | GCC A   | GAC D   | GGC G   | C\n",
            "G | GUA V   | GCA A   | GAA E   | GGA G   | A\n",
            "G | GUG V   | GCG A   | GAG E   | GGG G   | G\n",
            "--+---------+---------+---------+---------+--\n"
          ]
        }
      ]
    },
    {
      "cell_type": "code",
      "source": [
        "import py3Dmol"
      ],
      "metadata": {
        "id": "cZ987xEphoEW"
      },
      "execution_count": null,
      "outputs": []
    },
    {
      "cell_type": "code",
      "source": [
        "viewmol = py3Dmol.view(query='pdb:2VQ5')\n",
        "viewmol.setStyle({'cartoon':{'color':'spectrum'}})\n",
        "viewmol.show()"
      ],
      "metadata": {
        "colab": {
          "base_uri": "https://localhost:8080/",
          "height": 497
        },
        "id": "a7S_a3IEhvlG",
        "outputId": "f79eef5c-d1a1-43a9-d3ca-7a82d3e6495d"
      },
      "execution_count": null,
      "outputs": [
        {
          "output_type": "display_data",
          "data": {
            "application/3dmoljs_load.v0": "<div id=\"3dmolviewer_17416854647908244\"  style=\"position: relative; width: 640px; height: 480px\">\n        <p id=\"3dmolwarning_17416854647908244\" style=\"background-color:#ffcccc;color:black\">You appear to be running in JupyterLab (or JavaScript failed to load for some other reason).  You need to install the 3dmol extension: <br>\n        <tt>jupyter labextension install jupyterlab_3dmol</tt></p>\n        </div>\n<script>\n\nvar loadScriptAsync = function(uri){\n  return new Promise((resolve, reject) => {\n    //this is to ignore the existence of requirejs amd\n    var savedexports, savedmodule;\n    if (typeof exports !== 'undefined') savedexports = exports;\n    else exports = {}\n    if (typeof module !== 'undefined') savedmodule = module;\n    else module = {}\n\n    var tag = document.createElement('script');\n    tag.src = uri;\n    tag.async = true;\n    tag.onload = () => {\n        exports = savedexports;\n        module = savedmodule;\n        resolve();\n    };\n  var firstScriptTag = document.getElementsByTagName('script')[0];\n  firstScriptTag.parentNode.insertBefore(tag, firstScriptTag);\n});\n};\n\nif(typeof $3Dmolpromise === 'undefined') {\n$3Dmolpromise = null;\n  $3Dmolpromise = loadScriptAsync('https://cdnjs.cloudflare.com/ajax/libs/3Dmol/2.0.1/3Dmol-min.js');\n}\n\nvar viewer_17416854647908244 = null;\nvar warn = document.getElementById(\"3dmolwarning_17416854647908244\");\nif(warn) {\n    warn.parentNode.removeChild(warn);\n}\n$3Dmolpromise.then(function() {\nviewer_17416854647908244 = $3Dmol.createViewer(document.getElementById(\"3dmolviewer_17416854647908244\"),{backgroundColor:\"white\"});\n$3Dmol.download(\"pdb:2VQ5\", viewer_17416854647908244, {}, function() {\nviewer_17416854647908244.zoomTo();\n\tviewer_17416854647908244.setStyle({\"cartoon\": {\"color\": \"spectrum\"}});\nviewer_17416854647908244.render();\n})\n});\n</script>",
            "text/html": [
              "<div id=\"3dmolviewer_17416854647908244\"  style=\"position: relative; width: 640px; height: 480px\">\n",
              "        <p id=\"3dmolwarning_17416854647908244\" style=\"background-color:#ffcccc;color:black\">You appear to be running in JupyterLab (or JavaScript failed to load for some other reason).  You need to install the 3dmol extension: <br>\n",
              "        <tt>jupyter labextension install jupyterlab_3dmol</tt></p>\n",
              "        </div>\n",
              "<script>\n",
              "\n",
              "var loadScriptAsync = function(uri){\n",
              "  return new Promise((resolve, reject) => {\n",
              "    //this is to ignore the existence of requirejs amd\n",
              "    var savedexports, savedmodule;\n",
              "    if (typeof exports !== 'undefined') savedexports = exports;\n",
              "    else exports = {}\n",
              "    if (typeof module !== 'undefined') savedmodule = module;\n",
              "    else module = {}\n",
              "\n",
              "    var tag = document.createElement('script');\n",
              "    tag.src = uri;\n",
              "    tag.async = true;\n",
              "    tag.onload = () => {\n",
              "        exports = savedexports;\n",
              "        module = savedmodule;\n",
              "        resolve();\n",
              "    };\n",
              "  var firstScriptTag = document.getElementsByTagName('script')[0];\n",
              "  firstScriptTag.parentNode.insertBefore(tag, firstScriptTag);\n",
              "});\n",
              "};\n",
              "\n",
              "if(typeof $3Dmolpromise === 'undefined') {\n",
              "$3Dmolpromise = null;\n",
              "  $3Dmolpromise = loadScriptAsync('https://cdnjs.cloudflare.com/ajax/libs/3Dmol/2.0.1/3Dmol-min.js');\n",
              "}\n",
              "\n",
              "var viewer_17416854647908244 = null;\n",
              "var warn = document.getElementById(\"3dmolwarning_17416854647908244\");\n",
              "if(warn) {\n",
              "    warn.parentNode.removeChild(warn);\n",
              "}\n",
              "$3Dmolpromise.then(function() {\n",
              "viewer_17416854647908244 = $3Dmol.createViewer(document.getElementById(\"3dmolviewer_17416854647908244\"),{backgroundColor:\"white\"});\n",
              "$3Dmol.download(\"pdb:2VQ5\", viewer_17416854647908244, {}, function() {\n",
              "viewer_17416854647908244.zoomTo();\n",
              "\tviewer_17416854647908244.setStyle({\"cartoon\": {\"color\": \"spectrum\"}});\n",
              "viewer_17416854647908244.render();\n",
              "})\n",
              "});\n",
              "</script>"
            ]
          },
          "metadata": {}
        }
      ]
    }
  ]
}