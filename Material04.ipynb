{
  "nbformat": 4,
  "nbformat_minor": 0,
  "metadata": {
    "colab": {
      "provenance": [],
      "authorship_tag": "ABX9TyMAe8IgmitdUXUggaTHQKvF",
      "include_colab_link": true
    },
    "kernelspec": {
      "name": "python3",
      "display_name": "Python 3"
    },
    "language_info": {
      "name": "python"
    }
  },
  "cells": [
    {
      "cell_type": "markdown",
      "metadata": {
        "id": "view-in-github",
        "colab_type": "text"
      },
      "source": [
        "<a href=\"https://colab.research.google.com/github/AnomaliJawa/Computational-Biology/blob/main/Material04.ipynb\" target=\"_parent\"><img src=\"https://colab.research.google.com/assets/colab-badge.svg\" alt=\"Open In Colab\"/></a>"
      ]
    },
    {
      "cell_type": "code",
      "execution_count": null,
      "metadata": {
        "colab": {
          "base_uri": "https://localhost:8080/"
        },
        "id": "-tPsr3SZswG1",
        "outputId": "45000826-726f-4518-8bc5-52e55859bfae"
      },
      "outputs": [
        {
          "output_type": "stream",
          "name": "stdout",
          "text": [
            "Collecting py3Dmol==2.0.1.post1\n",
            "  Downloading py3Dmol-2.0.1.post1-py2.py3-none-any.whl.metadata (2.1 kB)\n",
            "Downloading py3Dmol-2.0.1.post1-py2.py3-none-any.whl (12 kB)\n",
            "Installing collected packages: py3Dmol\n",
            "Successfully installed py3Dmol-2.0.1.post1\n"
          ]
        }
      ],
      "source": [
        "pip install py3Dmol==2.0.1.post1"
      ]
    },
    {
      "cell_type": "code",
      "source": [
        "pip install python-Levenshtein==0.20.9"
      ],
      "metadata": {
        "colab": {
          "base_uri": "https://localhost:8080/"
        },
        "id": "30KZ5B2Ss8Gh",
        "outputId": "36b92310-00f7-40be-96c3-419ebcf4e8fa"
      },
      "execution_count": null,
      "outputs": [
        {
          "output_type": "stream",
          "name": "stdout",
          "text": [
            "Collecting python-Levenshtein==0.20.9\n",
            "  Downloading python_Levenshtein-0.20.9-py3-none-any.whl.metadata (3.8 kB)\n",
            "Collecting Levenshtein==0.20.9 (from python-Levenshtein==0.20.9)\n",
            "  Downloading Levenshtein-0.20.9-cp311-cp311-manylinux_2_17_x86_64.manylinux2014_x86_64.whl.metadata (3.4 kB)\n",
            "Collecting rapidfuzz<3.0.0,>=2.3.0 (from Levenshtein==0.20.9->python-Levenshtein==0.20.9)\n",
            "  Downloading rapidfuzz-2.15.2-cp311-cp311-manylinux_2_17_x86_64.manylinux2014_x86_64.whl.metadata (9.0 kB)\n",
            "Downloading python_Levenshtein-0.20.9-py3-none-any.whl (9.4 kB)\n",
            "Downloading Levenshtein-0.20.9-cp311-cp311-manylinux_2_17_x86_64.manylinux2014_x86_64.whl (173 kB)\n",
            "\u001b[2K   \u001b[90m━━━━━━━━━━━━━━━━━━━━━━━━━━━━━━━━━━━━━━━━\u001b[0m \u001b[32m174.0/174.0 kB\u001b[0m \u001b[31m3.4 MB/s\u001b[0m eta \u001b[36m0:00:00\u001b[0m\n",
            "\u001b[?25hDownloading rapidfuzz-2.15.2-cp311-cp311-manylinux_2_17_x86_64.manylinux2014_x86_64.whl (3.0 MB)\n",
            "\u001b[2K   \u001b[90m━━━━━━━━━━━━━━━━━━━━━━━━━━━━━━━━━━━━━━━━\u001b[0m \u001b[32m3.0/3.0 MB\u001b[0m \u001b[31m43.5 MB/s\u001b[0m eta \u001b[36m0:00:00\u001b[0m\n",
            "\u001b[?25hInstalling collected packages: rapidfuzz, Levenshtein, python-Levenshtein\n",
            "Successfully installed Levenshtein-0.20.9 python-Levenshtein-0.20.9 rapidfuzz-2.15.2\n"
          ]
        }
      ]
    },
    {
      "cell_type": "code",
      "source": [
        "pip install matplotlib==3.5.3"
      ],
      "metadata": {
        "colab": {
          "base_uri": "https://localhost:8080/"
        },
        "id": "8Jua2-i4s9RY",
        "outputId": "c978d031-e245-43ab-d11a-4976de476247"
      },
      "execution_count": null,
      "outputs": [
        {
          "output_type": "stream",
          "name": "stdout",
          "text": [
            "Requirement already satisfied: matplotlib==3.5.3 in /usr/local/lib/python3.11/dist-packages (3.5.3)\n",
            "Requirement already satisfied: cycler>=0.10 in /usr/local/lib/python3.11/dist-packages (from matplotlib==3.5.3) (0.12.1)\n",
            "Requirement already satisfied: fonttools>=4.22.0 in /usr/local/lib/python3.11/dist-packages (from matplotlib==3.5.3) (4.57.0)\n",
            "Requirement already satisfied: kiwisolver>=1.0.1 in /usr/local/lib/python3.11/dist-packages (from matplotlib==3.5.3) (1.4.8)\n",
            "Requirement already satisfied: numpy>=1.17 in /usr/local/lib/python3.11/dist-packages (from matplotlib==3.5.3) (1.26.4)\n",
            "Requirement already satisfied: packaging>=20.0 in /usr/local/lib/python3.11/dist-packages (from matplotlib==3.5.3) (24.2)\n",
            "Requirement already satisfied: pillow>=6.2.0 in /usr/local/lib/python3.11/dist-packages (from matplotlib==3.5.3) (11.2.1)\n",
            "Requirement already satisfied: pyparsing>=2.2.1 in /usr/local/lib/python3.11/dist-packages (from matplotlib==3.5.3) (3.2.3)\n",
            "Requirement already satisfied: python-dateutil>=2.7 in /usr/local/lib/python3.11/dist-packages (from matplotlib==3.5.3) (2.9.0.post0)\n",
            "Requirement already satisfied: six>=1.5 in /usr/local/lib/python3.11/dist-packages (from python-dateutil>=2.7->matplotlib==3.5.3) (1.17.0)\n"
          ]
        }
      ]
    },
    {
      "cell_type": "code",
      "source": [
        "pip install numpy==1.26.4"
      ],
      "metadata": {
        "colab": {
          "base_uri": "https://localhost:8080/"
        },
        "id": "bqPTqHggs_sT",
        "outputId": "a0fe834f-bdb8-4733-e005-6d89d9912ed3"
      },
      "execution_count": null,
      "outputs": [
        {
          "output_type": "stream",
          "name": "stdout",
          "text": [
            "Requirement already satisfied: numpy==1.26.4 in /usr/local/lib/python3.11/dist-packages (1.26.4)\n"
          ]
        }
      ]
    },
    {
      "cell_type": "code",
      "source": [
        "pip install biopython==1.78"
      ],
      "metadata": {
        "colab": {
          "base_uri": "https://localhost:8080/"
        },
        "id": "RH7IM-Z8tBF5",
        "outputId": "40be281b-7d3e-4938-be53-5e53641829ce"
      },
      "execution_count": null,
      "outputs": [
        {
          "output_type": "stream",
          "name": "stdout",
          "text": [
            "Collecting biopython==1.78\n",
            "  Using cached biopython-1.78.tar.gz (16.9 MB)\n",
            "  Preparing metadata (setup.py) ... \u001b[?25l\u001b[?25hdone\n",
            "Requirement already satisfied: numpy in /usr/local/lib/python3.11/dist-packages (from biopython==1.78) (1.26.4)\n",
            "Building wheels for collected packages: biopython\n",
            "  Building wheel for biopython (setup.py) ... \u001b[?25l\u001b[?25hdone\n",
            "  Created wheel for biopython: filename=biopython-1.78-cp311-cp311-linux_x86_64.whl size=2527272 sha256=2fcf5476e8eb6f3991699dad7f021e806a520d68fe5c40f23b5dd1da0c3c7b50\n",
            "  Stored in directory: /root/.cache/pip/wheels/ca/09/da/77d9ed7c7ad07643933fcb68c45e07acd9b61de4436ee4be7b\n",
            "Successfully built biopython\n",
            "Installing collected packages: biopython\n",
            "Successfully installed biopython-1.78\n"
          ]
        }
      ]
    },
    {
      "cell_type": "code",
      "source": [
        "from Bio.Seq import Seq"
      ],
      "metadata": {
        "id": "CbQ8uVUstFGO"
      },
      "execution_count": null,
      "outputs": []
    },
    {
      "cell_type": "code",
      "source": [
        "DNA_A = (\"CGATCGAT\")\n",
        "DNA_B = (\"ACGTGTAC\")"
      ],
      "metadata": {
        "id": "pT2wQeYotLYG"
      },
      "execution_count": null,
      "outputs": []
    },
    {
      "cell_type": "code",
      "source": [
        "from Bio import pairwise2"
      ],
      "metadata": {
        "id": "khdSpkQGtcm-"
      },
      "execution_count": null,
      "outputs": []
    },
    {
      "cell_type": "code",
      "source": [
        "alignments = pairwise2.align.globalxx(DNA_A, DNA_B)\n",
        "alignments"
      ],
      "metadata": {
        "colab": {
          "base_uri": "https://localhost:8080/"
        },
        "id": "rcCmQHS9t5vp",
        "outputId": "aef4d0e4-f812-4de5-deb9-dd4eac20c3ff"
      },
      "execution_count": null,
      "outputs": [
        {
          "output_type": "execute_result",
          "data": {
            "text/plain": [
              "[Alignment(seqA='-CGATCGAT--', seqB='ACG-T-G-TAC', score=5.0, start=0, end=11),\n",
              " Alignment(seqA='-CGATCG-AT-', seqB='ACG-T-GTA-C', score=5.0, start=0, end=11),\n",
              " Alignment(seqA='-CGATCG-AT', seqB='ACG-T-GTAC', score=5.0, start=0, end=10)]"
            ]
          },
          "metadata": {},
          "execution_count": 8
        }
      ]
    },
    {
      "cell_type": "code",
      "source": [
        "for alignment in alignments:\n",
        "    print(alignment)"
      ],
      "metadata": {
        "colab": {
          "base_uri": "https://localhost:8080/"
        },
        "id": "C8r_Kms4uLoo",
        "outputId": "2ec483d5-f490-4377-eb74-e748a06f7396"
      },
      "execution_count": null,
      "outputs": [
        {
          "output_type": "stream",
          "name": "stdout",
          "text": [
            "Alignment(seqA='-CGATCGAT--', seqB='ACG-T-G-TAC', score=5.0, start=0, end=11)\n",
            "Alignment(seqA='-CGATCG-AT-', seqB='ACG-T-GTA-C', score=5.0, start=0, end=11)\n",
            "Alignment(seqA='-CGATCG-AT', seqB='ACG-T-GTAC', score=5.0, start=0, end=10)\n"
          ]
        }
      ]
    },
    {
      "cell_type": "code",
      "source": [
        "from Bio.pairwise2 import format_alignment"
      ],
      "metadata": {
        "id": "CNux2VHnuFyV"
      },
      "execution_count": null,
      "outputs": []
    },
    {
      "cell_type": "code",
      "source": [
        "for alignment in alignments:\n",
        "    print(format_alignment(*alignment))"
      ],
      "metadata": {
        "colab": {
          "base_uri": "https://localhost:8080/"
        },
        "id": "1rIBnxrWuV5s",
        "outputId": "d7553475-7fbf-4166-857f-4cce95a0e0b8"
      },
      "execution_count": null,
      "outputs": [
        {
          "output_type": "stream",
          "name": "stdout",
          "text": [
            "-CGATCGAT--\n",
            " || | | |  \n",
            "ACG-T-G-TAC\n",
            "  Score=5\n",
            "\n",
            "-CGATCG-AT-\n",
            " || | | |  \n",
            "ACG-T-GTA-C\n",
            "  Score=5\n",
            "\n",
            "-CGATCG-AT\n",
            " || | | |.\n",
            "ACG-T-GTAC\n",
            "  Score=5\n",
            "\n"
          ]
        }
      ]
    },
    {
      "cell_type": "code",
      "source": [
        "def hamming_distance(DNA_A, DNA_B):\n",
        "    distance = 0\n",
        "    for i in range(len(DNA_A)):\n",
        "        if DNA_A[i] != DNA_B[i]:\n",
        "            distance += 1\n",
        "\n",
        "    return distance"
      ],
      "metadata": {
        "id": "5zp34XWgwlnw"
      },
      "execution_count": null,
      "outputs": []
    },
    {
      "cell_type": "code",
      "source": [
        "hamming_distance(DNA_A, DNA_B)"
      ],
      "metadata": {
        "colab": {
          "base_uri": "https://localhost:8080/"
        },
        "id": "Qcg_Q7WXxIFe",
        "outputId": "49d17cc7-14e4-41b2-90c0-dd5d329e2f9f"
      },
      "execution_count": null,
      "outputs": [
        {
          "output_type": "execute_result",
          "data": {
            "text/plain": [
              "6"
            ]
          },
          "metadata": {},
          "execution_count": 24
        }
      ]
    },
    {
      "cell_type": "code",
      "source": [
        "from Levenshtein import distance"
      ],
      "metadata": {
        "id": "YvDP-RTjx86_"
      },
      "execution_count": null,
      "outputs": []
    },
    {
      "cell_type": "code",
      "source": [
        "distance(DNA_A, DNA_B)"
      ],
      "metadata": {
        "colab": {
          "base_uri": "https://localhost:8080/"
        },
        "id": "IJN1UtM9x_4v",
        "outputId": "4387a487-bf17-40e8-c19e-fab45f800689"
      },
      "execution_count": null,
      "outputs": [
        {
          "output_type": "execute_result",
          "data": {
            "text/plain": [
              "5"
            ]
          },
          "metadata": {},
          "execution_count": 27
        }
      ]
    },
    {
      "cell_type": "code",
      "source": [
        "def match(a, b):\n",
        "    return a == b\n",
        "\n",
        "def create_matrix(CNA_A, DNA_B):\n",
        "    matrix = []\n",
        "\n",
        "    for i in DNA_B:\n",
        "        row = []\n",
        "        for j in DNA_B:\n",
        "            row.append(match(i, j))\n",
        "        matrix.append(row)\n",
        "\n",
        "    return matrix\n",
        "\n",
        "def print_matrix(DNA_A, DNA_B):\n",
        "    matrix = create_matrix(DNA_A, DNA_B)\n",
        "\n",
        "    print(\"#\" + DNA_A)\n",
        "    for x, y in zip(matrix, DNA_B):\n",
        "        row = y + \" \"\n",
        "        for z in x:\n",
        "            row += \"X\" if z else \" \"\n",
        "        print(row)"
      ],
      "metadata": {
        "id": "l5FW1DIayCMO"
      },
      "execution_count": null,
      "outputs": []
    },
    {
      "cell_type": "code",
      "source": [
        "create_matrix(DNA_A, DNA_B)"
      ],
      "metadata": {
        "colab": {
          "base_uri": "https://localhost:8080/"
        },
        "id": "_QPRaObUzT69",
        "outputId": "17b06326-c7ba-4ef2-dba0-e20f997233e0"
      },
      "execution_count": null,
      "outputs": [
        {
          "output_type": "execute_result",
          "data": {
            "text/plain": [
              "[[True, False, False, False, False, False, True, False],\n",
              " [False, True, False, False, False, False, False, True],\n",
              " [False, False, True, False, True, False, False, False],\n",
              " [False, False, False, True, False, True, False, False],\n",
              " [False, False, True, False, True, False, False, False],\n",
              " [False, False, False, True, False, True, False, False],\n",
              " [True, False, False, False, False, False, True, False],\n",
              " [False, True, False, False, False, False, False, True]]"
            ]
          },
          "metadata": {},
          "execution_count": 43
        }
      ]
    },
    {
      "cell_type": "code",
      "source": [
        "print_matrix(DNA_A, DNA_B)"
      ],
      "metadata": {
        "colab": {
          "base_uri": "https://localhost:8080/"
        },
        "id": "eJH8RN_R1vVI",
        "outputId": "9960e9c6-a5ce-42ac-8d84-a8cf5cc62f14"
      },
      "execution_count": null,
      "outputs": [
        {
          "output_type": "stream",
          "name": "stdout",
          "text": [
            "#CGATCGAT\n",
            "A X     X \n",
            "C  X     X\n",
            "G   X X   \n",
            "T    X X  \n",
            "G   X X   \n",
            "T    X X  \n",
            "A X     X \n",
            "C  X     X\n"
          ]
        }
      ]
    }
  ]
}