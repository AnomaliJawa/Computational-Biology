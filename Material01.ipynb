{
  "nbformat": 4,
  "nbformat_minor": 0,
  "metadata": {
    "colab": {
      "provenance": [],
      "authorship_tag": "ABX9TyNS3MTpI02wlsj9XDvfU2VR",
      "include_colab_link": true
    },
    "kernelspec": {
      "name": "python3",
      "display_name": "Python 3"
    },
    "language_info": {
      "name": "python"
    }
  },
  "cells": [
    {
      "cell_type": "markdown",
      "metadata": {
        "id": "view-in-github",
        "colab_type": "text"
      },
      "source": [
        "<a href=\"https://colab.research.google.com/github/AnomaliJawa/Computational-Biology/blob/main/Material01.ipynb\" target=\"_parent\"><img src=\"https://colab.research.google.com/assets/colab-badge.svg\" alt=\"Open In Colab\"/></a>"
      ]
    },
    {
      "cell_type": "code",
      "execution_count": 6,
      "metadata": {
        "colab": {
          "base_uri": "https://localhost:8080/"
        },
        "id": "6UcW__6_plya",
        "outputId": "068efd9a-6c48-4691-fedd-184fa228511b"
      },
      "outputs": [
        {
          "output_type": "stream",
          "name": "stdout",
          "text": [
            "Requirement already satisfied: py3Dmol==2.0.1.post1 in /usr/local/lib/python3.11/dist-packages (2.0.1.post1)\n"
          ]
        }
      ],
      "source": [
        "pip install py3Dmol==2.0.1.post1"
      ]
    },
    {
      "cell_type": "code",
      "source": [
        "pip install python-Levenshtein==0.20.9"
      ],
      "metadata": {
        "colab": {
          "base_uri": "https://localhost:8080/"
        },
        "id": "-A9dZISDpofL",
        "outputId": "2848186b-49b9-4ea3-d21f-06ebeb44b8fb"
      },
      "execution_count": 7,
      "outputs": [
        {
          "output_type": "stream",
          "name": "stdout",
          "text": [
            "Requirement already satisfied: python-Levenshtein==0.20.9 in /usr/local/lib/python3.11/dist-packages (0.20.9)\n",
            "Requirement already satisfied: Levenshtein==0.20.9 in /usr/local/lib/python3.11/dist-packages (from python-Levenshtein==0.20.9) (0.20.9)\n",
            "Requirement already satisfied: rapidfuzz<3.0.0,>=2.3.0 in /usr/local/lib/python3.11/dist-packages (from Levenshtein==0.20.9->python-Levenshtein==0.20.9) (2.15.2)\n"
          ]
        }
      ]
    },
    {
      "cell_type": "code",
      "source": [
        "pip install matplotlib"
      ],
      "metadata": {
        "colab": {
          "base_uri": "https://localhost:8080/"
        },
        "id": "SniZm_fcpqP8",
        "outputId": "a0f2182c-9aa5-4c33-915c-b4440521e424"
      },
      "execution_count": 8,
      "outputs": [
        {
          "output_type": "stream",
          "name": "stdout",
          "text": [
            "Requirement already satisfied: matplotlib in /usr/local/lib/python3.11/dist-packages (3.10.0)\n",
            "Requirement already satisfied: contourpy>=1.0.1 in /usr/local/lib/python3.11/dist-packages (from matplotlib) (1.3.2)\n",
            "Requirement already satisfied: cycler>=0.10 in /usr/local/lib/python3.11/dist-packages (from matplotlib) (0.12.1)\n",
            "Requirement already satisfied: fonttools>=4.22.0 in /usr/local/lib/python3.11/dist-packages (from matplotlib) (4.58.0)\n",
            "Requirement already satisfied: kiwisolver>=1.3.1 in /usr/local/lib/python3.11/dist-packages (from matplotlib) (1.4.8)\n",
            "Requirement already satisfied: numpy>=1.23 in /usr/local/lib/python3.11/dist-packages (from matplotlib) (2.0.2)\n",
            "Requirement already satisfied: packaging>=20.0 in /usr/local/lib/python3.11/dist-packages (from matplotlib) (24.2)\n",
            "Requirement already satisfied: pillow>=8 in /usr/local/lib/python3.11/dist-packages (from matplotlib) (11.2.1)\n",
            "Requirement already satisfied: pyparsing>=2.3.1 in /usr/local/lib/python3.11/dist-packages (from matplotlib) (3.2.3)\n",
            "Requirement already satisfied: python-dateutil>=2.7 in /usr/local/lib/python3.11/dist-packages (from matplotlib) (2.9.0.post0)\n",
            "Requirement already satisfied: six>=1.5 in /usr/local/lib/python3.11/dist-packages (from python-dateutil>=2.7->matplotlib) (1.17.0)\n"
          ]
        }
      ]
    },
    {
      "cell_type": "code",
      "source": [
        "pip install numpy"
      ],
      "metadata": {
        "colab": {
          "base_uri": "https://localhost:8080/"
        },
        "id": "wnFDZEhcptB5",
        "outputId": "e5a58a67-a2a4-4845-fb62-a3068f56d5ef"
      },
      "execution_count": 9,
      "outputs": [
        {
          "output_type": "stream",
          "name": "stdout",
          "text": [
            "Requirement already satisfied: numpy in /usr/local/lib/python3.11/dist-packages (2.0.2)\n"
          ]
        }
      ]
    },
    {
      "cell_type": "code",
      "source": [
        "pip install biopython==1.78"
      ],
      "metadata": {
        "colab": {
          "base_uri": "https://localhost:8080/"
        },
        "id": "JxxTRiLhpu1s",
        "outputId": "bee550b1-93ba-4121-f6e2-24875344b19d"
      },
      "execution_count": 10,
      "outputs": [
        {
          "output_type": "stream",
          "name": "stdout",
          "text": [
            "Requirement already satisfied: biopython==1.78 in /usr/local/lib/python3.11/dist-packages (1.78)\n",
            "Requirement already satisfied: numpy in /usr/local/lib/python3.11/dist-packages (from biopython==1.78) (2.0.2)\n"
          ]
        }
      ]
    },
    {
      "cell_type": "code",
      "source": [
        "from Bio.Seq import Seq"
      ],
      "metadata": {
        "id": "Xv3rKZFrqDZb"
      },
      "execution_count": 11,
      "outputs": []
    },
    {
      "cell_type": "code",
      "source": [
        "sequence_a = Seq(\"CGATGACTGCATGCATGCATGCATG\")\n",
        "print(sequence_a)\n",
        "\n",
        "sequence_b = Seq(\"CATCGATGCATCGATGCATGCTAGC\")\n",
        "print(sequence_b)"
      ],
      "metadata": {
        "colab": {
          "base_uri": "https://localhost:8080/"
        },
        "id": "Ny2khJlZqKr7",
        "outputId": "08aa6c07-cc84-401a-fc19-1634a0b17663"
      },
      "execution_count": 12,
      "outputs": [
        {
          "output_type": "stream",
          "name": "stdout",
          "text": [
            "CGATGACTGCATGCATGCATGCATG\n",
            "CATCGATGCATCGATGCATGCTAGC\n"
          ]
        }
      ]
    },
    {
      "cell_type": "code",
      "source": [
        "join_sequence = sequence_a + sequence_b\n",
        "print(join_sequence)"
      ],
      "metadata": {
        "colab": {
          "base_uri": "https://localhost:8080/"
        },
        "id": "uOnpvY_fqNpE",
        "outputId": "15549529-f86c-4fd8-f9d6-c33ae9fca192"
      },
      "execution_count": 13,
      "outputs": [
        {
          "output_type": "stream",
          "name": "stdout",
          "text": [
            "CGATGACTGCATGCATGCATGCATGCATCGATGCATCGATGCATGCTAGC\n"
          ]
        }
      ]
    },
    {
      "cell_type": "code",
      "source": [
        "len_A = len(sequence_a)\n",
        "print(len_A)\n",
        "\n",
        "len_B = len(sequence_b)\n",
        "print(len_B)\n",
        "\n",
        "print(len(join_sequence))"
      ],
      "metadata": {
        "colab": {
          "base_uri": "https://localhost:8080/"
        },
        "id": "k9fWF8amqPhW",
        "outputId": "c915b7f1-4661-4198-c608-f086ea50fc15"
      },
      "execution_count": 14,
      "outputs": [
        {
          "output_type": "stream",
          "name": "stdout",
          "text": [
            "25\n",
            "25\n",
            "50\n"
          ]
        }
      ]
    },
    {
      "cell_type": "code",
      "source": [
        "print(sequence_a.count(\"A\"))\n",
        "print(sequence_a.count(\"T\"))\n",
        "print(sequence_a.count(\"CAT\"))"
      ],
      "metadata": {
        "colab": {
          "base_uri": "https://localhost:8080/"
        },
        "id": "VLHw-SRVqR3o",
        "outputId": "569d1ba5-eca0-47af-845f-5348aae0daaa"
      },
      "execution_count": 17,
      "outputs": [
        {
          "output_type": "stream",
          "name": "stdout",
          "text": [
            "6\n",
            "6\n",
            "4\n"
          ]
        }
      ]
    },
    {
      "cell_type": "code",
      "source": [
        "print(sequence_a.index(\"A\"))\n",
        "print(sequence_a.index(\"A\", 5))\n",
        "\n",
        "print(sequence_a.find(\"G\"))\n",
        "print(sequence_a.find(\"G\", 3))\n",
        "\n",
        "print(sequence_a.rfind(\"C\"))"
      ],
      "metadata": {
        "colab": {
          "base_uri": "https://localhost:8080/"
        },
        "id": "7dpeDVj-qZsY",
        "outputId": "e95fd153-d6d1-4fed-8d51-e17e9c0d9ce6"
      },
      "execution_count": 18,
      "outputs": [
        {
          "output_type": "stream",
          "name": "stdout",
          "text": [
            "2\n",
            "5\n",
            "1\n",
            "4\n",
            "21\n"
          ]
        }
      ]
    },
    {
      "cell_type": "code",
      "source": [
        "from Bio.SeqUtils import nt_search"
      ],
      "metadata": {
        "id": "ckX7stYCqarm"
      },
      "execution_count": 19,
      "outputs": []
    },
    {
      "cell_type": "code",
      "source": [
        "new_sequence = Seq(\"ACGACGATGDCTGACTGATCGATG\")\n",
        "sub_sequence = Seq(\"CAG\")\n",
        "print(nt_search(str(new_sequence), str(sub_sequence)))"
      ],
      "metadata": {
        "colab": {
          "base_uri": "https://localhost:8080/"
        },
        "id": "B828xulvqc3o",
        "outputId": "c6e3d438-6207-4bc0-f93b-873267435a40"
      },
      "execution_count": 20,
      "outputs": [
        {
          "output_type": "stream",
          "name": "stdout",
          "text": [
            "['CAG']\n"
          ]
        }
      ]
    },
    {
      "cell_type": "code",
      "source": [
        "print(new_sequence[3:5])\n",
        "print(new_sequence[3:6:1])"
      ],
      "metadata": {
        "colab": {
          "base_uri": "https://localhost:8080/"
        },
        "id": "GB6dhYX0qfLE",
        "outputId": "6deb64a6-072d-4cdb-ca39-9904c7dca949"
      },
      "execution_count": 21,
      "outputs": [
        {
          "output_type": "stream",
          "name": "stdout",
          "text": [
            "AC\n",
            "ACG\n"
          ]
        }
      ]
    },
    {
      "cell_type": "code",
      "source": [
        "print(new_sequence)\n",
        "print(new_sequence[::-1])"
      ],
      "metadata": {
        "colab": {
          "base_uri": "https://localhost:8080/"
        },
        "id": "sEjl4Ww3qiL9",
        "outputId": "03275fba-44da-4a07-ef45-821c25cb8da0"
      },
      "execution_count": 22,
      "outputs": [
        {
          "output_type": "stream",
          "name": "stdout",
          "text": [
            "ACGACGATGDCTGACTGATCGATG\n",
            "GTAGCTAGTCAGTCDGTAGCAGCA\n"
          ]
        }
      ]
    },
    {
      "cell_type": "code",
      "source": [
        "import matplotlib.pyplot as plt\n",
        "from collections import Counter"
      ],
      "metadata": {
        "id": "a6xj_18MqjKG"
      },
      "execution_count": 23,
      "outputs": []
    },
    {
      "cell_type": "code",
      "source": [
        "long_sequence = Seq(\"ACTGATCGATCGATCGATGCATCGATGATGCATGCTAGCTAGGCATGATGCATG\")\n",
        "freq = Counter(long_sequence)\n",
        "freq_keys = freq.keys()\n",
        "freq_values = freq.values()\n",
        "print(freq)\n",
        "print(freq_keys, freq_values)"
      ],
      "metadata": {
        "colab": {
          "base_uri": "https://localhost:8080/"
        },
        "id": "1XD5u-dgqlHK",
        "outputId": "132ef3c3-4983-4621-97c4-84134d9743a6"
      },
      "execution_count": 24,
      "outputs": [
        {
          "output_type": "stream",
          "name": "stdout",
          "text": [
            "Counter({'G': 15, 'A': 14, 'T': 14, 'C': 11})\n",
            "dict_keys(['A', 'C', 'T', 'G']) dict_values([14, 11, 14, 15])\n"
          ]
        }
      ]
    },
    {
      "cell_type": "code",
      "source": [
        "plt.bar(freq_keys, freq_values)\n",
        "plt.title(\"Nucleotide Frequency Lot\")\n",
        "plt.show()"
      ],
      "metadata": {
        "colab": {
          "base_uri": "https://localhost:8080/",
          "height": 452
        },
        "id": "PU16RJ6TqnaQ",
        "outputId": "0edd8cce-8f63-42ff-9153-f29baf0f5656"
      },
      "execution_count": 25,
      "outputs": [
        {
          "output_type": "display_data",
          "data": {
            "text/plain": [
              "<Figure size 640x480 with 1 Axes>"
            ],
            "image/png": "[encoded data removed]"
          },
          "metadata": {}
        }
      ]
    }
  ]
}