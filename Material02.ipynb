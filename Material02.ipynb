{
  "nbformat": 4,
  "nbformat_minor": 0,
  "metadata": {
    "colab": {
      "provenance": [],
      "authorship_tag": "ABX9TyO2J5+yHZKdtPdH82jnJCcB",
      "include_colab_link": true
    },
    "kernelspec": {
      "name": "python3",
      "display_name": "Python 3"
    },
    "language_info": {
      "name": "python"
    }
  },
  "cells": [
    {
      "cell_type": "markdown",
      "metadata": {
        "id": "view-in-github",
        "colab_type": "text"
      },
      "source": [
        "<a href=\"https://colab.research.google.com/github/AnomaliJawa/Computational-Biology/blob/main/Material01.ipynb\" target=\"_parent\"><img src=\"https://colab.research.google.com/assets/colab-badge.svg\" alt=\"Open In Colab\"/></a>"
      ]
    },
    {
      "cell_type": "code",
      "execution_count": 1,
      "metadata": {
        "colab": {
          "base_uri": "https://localhost:8080/"
        },
        "id": "JGRGuiXwrOYC",
        "outputId": "c7574c15-be07-45e6-c28f-9a96568e6846"
      },
      "outputs": [
        {
          "output_type": "stream",
          "name": "stdout",
          "text": [
            "Collecting py3Dmol==2.0.1.post1\n",
            "  Downloading py3Dmol-2.0.1.post1-py2.py3-none-any.whl.metadata (2.1 kB)\n",
            "Downloading py3Dmol-2.0.1.post1-py2.py3-none-any.whl (12 kB)\n",
            "Installing collected packages: py3Dmol\n",
            "Successfully installed py3Dmol-2.0.1.post1\n"
          ]
        }
      ],
      "source": [
        "pip install py3Dmol==2.0.1.post1"
      ]
    },
    {
      "cell_type": "code",
      "source": [
        "pip install python-Levenshtein==0.20.9"
      ],
      "metadata": {
        "colab": {
          "base_uri": "https://localhost:8080/"
        },
        "id": "zs_9W63TrQ4b",
        "outputId": "95a37067-3128-46c6-a2de-b4bdf4cc156b"
      },
      "execution_count": 2,
      "outputs": [
        {
          "output_type": "stream",
          "name": "stdout",
          "text": [
            "Collecting python-Levenshtein==0.20.9\n",
            "  Downloading python_Levenshtein-0.20.9-py3-none-any.whl.metadata (3.8 kB)\n",
            "Collecting Levenshtein==0.20.9 (from python-Levenshtein==0.20.9)\n",
            "  Downloading Levenshtein-0.20.9-cp311-cp311-manylinux_2_17_x86_64.manylinux2014_x86_64.whl.metadata (3.4 kB)\n",
            "Collecting rapidfuzz<3.0.0,>=2.3.0 (from Levenshtein==0.20.9->python-Levenshtein==0.20.9)\n",
            "  Downloading rapidfuzz-2.15.2-cp311-cp311-manylinux_2_17_x86_64.manylinux2014_x86_64.whl.metadata (9.0 kB)\n",
            "Downloading python_Levenshtein-0.20.9-py3-none-any.whl (9.4 kB)\n",
            "Downloading Levenshtein-0.20.9-cp311-cp311-manylinux_2_17_x86_64.manylinux2014_x86_64.whl (173 kB)\n",
            "\u001b[2K   \u001b[90m━━━━━━━━━━━━━━━━━━━━━━━━━━━━━━━━━━━━━━━━\u001b[0m \u001b[32m174.0/174.0 kB\u001b[0m \u001b[31m3.3 MB/s\u001b[0m eta \u001b[36m0:00:00\u001b[0m\n",
            "\u001b[?25hDownloading rapidfuzz-2.15.2-cp311-cp311-manylinux_2_17_x86_64.manylinux2014_x86_64.whl (3.0 MB)\n",
            "\u001b[2K   \u001b[90m━━━━━━━━━━━━━━━━━━━━━━━━━━━━━━━━━━━━━━━━\u001b[0m \u001b[32m3.0/3.0 MB\u001b[0m \u001b[31m35.9 MB/s\u001b[0m eta \u001b[36m0:00:00\u001b[0m\n",
            "\u001b[?25hInstalling collected packages: rapidfuzz, Levenshtein, python-Levenshtein\n",
            "Successfully installed Levenshtein-0.20.9 python-Levenshtein-0.20.9 rapidfuzz-2.15.2\n"
          ]
        }
      ]
    },
    {
      "cell_type": "code",
      "source": [
        "pip install matplotlib"
      ],
      "metadata": {
        "colab": {
          "base_uri": "https://localhost:8080/"
        },
        "id": "F-_jsoqXrS8u",
        "outputId": "09596a93-cb2f-4775-994b-06e30763aa81"
      },
      "execution_count": 3,
      "outputs": [
        {
          "output_type": "stream",
          "name": "stdout",
          "text": [
            "Requirement already satisfied: matplotlib in /usr/local/lib/python3.11/dist-packages (3.10.0)\n",
            "Requirement already satisfied: contourpy>=1.0.1 in /usr/local/lib/python3.11/dist-packages (from matplotlib) (1.3.2)\n",
            "Requirement already satisfied: cycler>=0.10 in /usr/local/lib/python3.11/dist-packages (from matplotlib) (0.12.1)\n",
            "Requirement already satisfied: fonttools>=4.22.0 in /usr/local/lib/python3.11/dist-packages (from matplotlib) (4.58.0)\n",
            "Requirement already satisfied: kiwisolver>=1.3.1 in /usr/local/lib/python3.11/dist-packages (from matplotlib) (1.4.8)\n",
            "Requirement already satisfied: numpy>=1.23 in /usr/local/lib/python3.11/dist-packages (from matplotlib) (2.0.2)\n",
            "Requirement already satisfied: packaging>=20.0 in /usr/local/lib/python3.11/dist-packages (from matplotlib) (24.2)\n",
            "Requirement already satisfied: pillow>=8 in /usr/local/lib/python3.11/dist-packages (from matplotlib) (11.2.1)\n",
            "Requirement already satisfied: pyparsing>=2.3.1 in /usr/local/lib/python3.11/dist-packages (from matplotlib) (3.2.3)\n",
            "Requirement already satisfied: python-dateutil>=2.7 in /usr/local/lib/python3.11/dist-packages (from matplotlib) (2.9.0.post0)\n",
            "Requirement already satisfied: six>=1.5 in /usr/local/lib/python3.11/dist-packages (from python-dateutil>=2.7->matplotlib) (1.17.0)\n"
          ]
        }
      ]
    },
    {
      "cell_type": "code",
      "source": [
        "pip install numpy"
      ],
      "metadata": {
        "colab": {
          "base_uri": "https://localhost:8080/"
        },
        "id": "z9E9hhPZrUrO",
        "outputId": "c8f781d0-8055-41d8-f59b-e3afb21d4af9"
      },
      "execution_count": 4,
      "outputs": [
        {
          "output_type": "stream",
          "name": "stdout",
          "text": [
            "Requirement already satisfied: numpy in /usr/local/lib/python3.11/dist-packages (2.0.2)\n"
          ]
        }
      ]
    },
    {
      "cell_type": "code",
      "source": [
        "pip install biopython==1.78"
      ],
      "metadata": {
        "colab": {
          "base_uri": "https://localhost:8080/"
        },
        "id": "yzipCXvgrW0z",
        "outputId": "d1f4a7ae-9517-4a71-e9e3-c49e9c2cd1bb"
      },
      "execution_count": 5,
      "outputs": [
        {
          "output_type": "stream",
          "name": "stdout",
          "text": [
            "Collecting biopython==1.78\n",
            "  Downloading biopython-1.78.tar.gz (16.9 MB)\n",
            "\u001b[2K     \u001b[90m━━━━━━━━━━━━━━━━━━━━━━━━━━━━━━━━━━━━━━━━\u001b[0m \u001b[32m16.9/16.9 MB\u001b[0m \u001b[31m95.0 MB/s\u001b[0m eta \u001b[36m0:00:00\u001b[0m\n",
            "\u001b[?25h  Preparing metadata (setup.py) ... \u001b[?25l\u001b[?25hdone\n",
            "Requirement already satisfied: numpy in /usr/local/lib/python3.11/dist-packages (from biopython==1.78) (2.0.2)\n",
            "Building wheels for collected packages: biopython\n",
            "  Building wheel for biopython (setup.py) ... \u001b[?25l\u001b[?25hdone\n",
            "  Created wheel for biopython: filename=biopython-1.78-cp311-cp311-linux_x86_64.whl size=2527272 sha256=9fb7ae3bfa9a96a362019f77040cc08bc7cf4276ce69bb4051b9e860708c7e8e\n",
            "  Stored in directory: /root/.cache/pip/wheels/ca/09/da/77d9ed7c7ad07643933fcb68c45e07acd9b61de4436ee4be7b\n",
            "Successfully built biopython\n",
            "Installing collected packages: biopython\n",
            "Successfully installed biopython-1.78\n"
          ]
        }
      ]
    },
    {
      "cell_type": "code",
      "source": [
        "from Bio.Seq import Seq"
      ],
      "metadata": {
        "id": "Y3vJI7U6rs9A"
      },
      "execution_count": 6,
      "outputs": []
    },
    {
      "cell_type": "code",
      "source": [
        "sequence = Seq(\"CGATCGATCGATCGATCGATCGATCGAT\")\n",
        "print(sequence)"
      ],
      "metadata": {
        "colab": {
          "base_uri": "https://localhost:8080/"
        },
        "id": "sy1-SA4GryTx",
        "outputId": "e063ceb6-f5af-4962-aa85-16c8e5a575e3"
      },
      "execution_count": 7,
      "outputs": [
        {
          "output_type": "stream",
          "name": "stdout",
          "text": [
            "CGATCGATCGATCGATCGATCGATCGAT\n"
          ]
        }
      ]
    },
    {
      "cell_type": "code",
      "source": [
        "def get_gc_composition(sequence):\n",
        "    gc_list = []\n",
        "    for nucleotide in sequence:\n",
        "        if nucleotide in [\"G\", \"C\"]:\n",
        "            gc_list.append(nucleotide)\n",
        "\n",
        "    # Get percentage from GC\n",
        "    return len(gc_list) / len(sequence) * 100\n",
        "\n",
        "gc_composition = get_gc_composition(sequence)\n",
        "print(gc_composition)"
      ],
      "metadata": {
        "colab": {
          "base_uri": "https://localhost:8080/"
        },
        "id": "KF1qGtIzr2Hp",
        "outputId": "a8679272-491b-436d-b523-9ae62f27b895"
      },
      "execution_count": 8,
      "outputs": [
        {
          "output_type": "stream",
          "name": "stdout",
          "text": [
            "50.0\n"
          ]
        }
      ]
    },
    {
      "cell_type": "code",
      "source": [
        "from Bio.SeqUtils import GC\n",
        "\n",
        "gc_percentage = GC(sequence)\n",
        "at_percentage = 100 - gc_percentage"
      ],
      "metadata": {
        "id": "FsFdXVrGr33-"
      },
      "execution_count": 10,
      "outputs": []
    },
    {
      "cell_type": "code",
      "source": [
        "import matplotlib.pyplot as plt\n",
        "\n",
        "percentages = [gc_percentage, at_percentage]\n",
        "labels = [\"GC\", \"AT\"]\n",
        "\n",
        "plt.pie(percentages, labels=labels, autopct='%1.1f%%')\n",
        "plt.title(\"GC & AT Composition\")\n",
        "plt.show()"
      ],
      "metadata": {
        "colab": {
          "base_uri": "https://localhost:8080/",
          "height": 428
        },
        "id": "oNlz0KGRr6b4",
        "outputId": "5f2cd9c0-f97b-483c-f334-b12c45ae1b87"
      },
      "execution_count": 12,
      "outputs": [
        {
          "output_type": "display_data",
          "data": {
            "text/plain": [
              "<Figure size 640x480 with 1 Axes>"
            ],
            "image/png": "[encoded data removed]"
          },
          "metadata": {}
        }
      ]
    },
    {
      "cell_type": "code",
      "source": [
        "def get_melting_point(sequence):\n",
        "    A_count = sequence.count(\"A\")\n",
        "    C_count = sequence.count(\"C\")\n",
        "    G_count = sequence.count(\"G\")\n",
        "    T_count = sequence.count(\"T\")\n",
        "\n",
        "    if len(sequence) < 14:\n",
        "        return (A_count + T_count) * 2 (G_count + C_count) * 4\n",
        "    else:\n",
        "        return 64.9 +41 * (G_count + C_count - 16.4) / len(sequence)\n",
        "\n",
        "melting_point = get_melting_point(sequence)\n",
        "print(melting_point)"
      ],
      "metadata": {
        "colab": {
          "base_uri": "https://localhost:8080/"
        },
        "id": "UW7pP86kr8Pa",
        "outputId": "3a593770-5b3b-465b-9546-165843b827f2"
      },
      "execution_count": 13,
      "outputs": [
        {
          "output_type": "stream",
          "name": "stdout",
          "text": [
            "61.38571428571429\n"
          ]
        },
        {
          "output_type": "stream",
          "name": "stderr",
          "text": [
            "<>:8: SyntaxWarning: 'int' object is not callable; perhaps you missed a comma?\n",
            "<>:8: SyntaxWarning: 'int' object is not callable; perhaps you missed a comma?\n",
            "<ipython-input-13-524b9948e30e>:8: SyntaxWarning: 'int' object is not callable; perhaps you missed a comma?\n",
            "  return (A_count + T_count) * 2 (G_count + C_count) * 4\n"
          ]
        }
      ]
    },
    {
      "cell_type": "code",
      "source": [
        "from Bio.SeqUtils import MeltingTemp as mt\n",
        "\n",
        "mt_wallace = mt.Tm_Wallace(sequence)\n",
        "mt_gc = mt.Tm_GC(sequence)\n",
        "mt_NN = mt.Tm_NN(sequence)\n",
        "\n",
        "print(f\"MT Wallace: {mt_wallace}\")\n",
        "print(f\"MT GC: {mt_gc}\")\n",
        "print(f\"MT NN: {mt_NN}\")"
      ],
      "metadata": {
        "colab": {
          "base_uri": "https://localhost:8080/"
        },
        "id": "Zn_XMHe0r-Um",
        "outputId": "3de2a709-8cd8-49ff-86d0-99cae9f68186"
      },
      "execution_count": 14,
      "outputs": [
        {
          "output_type": "stream",
          "name": "stdout",
          "text": [
            "MT Wallace: 84.0\n",
            "MT GC: 58.72632083684374\n",
            "MT NN: 60.17162906686747\n"
          ]
        }
      ]
    },
    {
      "cell_type": "code",
      "source": [
        "from Bio.SeqUtils import molecular_weight\n",
        "\n",
        "mw = molecular_weight(sequence)\n",
        "print(f\"Molecular Weight: {mw}\")"
      ],
      "metadata": {
        "colab": {
          "base_uri": "https://localhost:8080/"
        },
        "id": "MEx_2pnqr_KO",
        "outputId": "dea0d417-4a26-4e34-ab17-905071352146"
      },
      "execution_count": 15,
      "outputs": [
        {
          "output_type": "stream",
          "name": "stdout",
          "text": [
            "Molecular Weight: 8668.527100000001\n"
          ]
        }
      ]
    },
    {
      "cell_type": "code",
      "source": [
        "# Import yang dibutuhkan\n",
        "from Bio.Seq import Seq\n",
        "from Bio.SeqUtils import molecular_weight\n",
        "\n",
        "def get_nucleotide_sequence(sequence, nucleotide):\n",
        "    \"\"\"\n",
        "    Extracts a specific nucleotide from a Bio.Seq.Seq object.\n",
        "\n",
        "    Args:\n",
        "        sequence (Bio.Seq.Seq): The input nucleotide sequence.\n",
        "        nucleotide (str): The nucleotide to extract (e.g., \"A\", \"T\", \"G\", \"C\").\n",
        "\n",
        "    Returns:\n",
        "        Seq: A new Bio.Seq.Seq object with only the specified nucleotide.\n",
        "    \"\"\"\n",
        "    # Buat list kosong untuk menyimpan hasil ekstraksi\n",
        "    extracted_nucleotides = [base for base in sequence if base == nucleotide]\n",
        "    return Seq(\"\".join(extracted_nucleotides))\n",
        "\n",
        "# Contoh input sequence\n",
        "sequence = Seq(\"CGATCGATCGATCGATCGATCGATCGAT\")\n",
        "\n",
        "# Ekstraksi masing-masing nukleotida\n",
        "nucleotide_seq_A = get_nucleotide_sequence(sequence, \"A\")\n",
        "nucleotide_seq_T = get_nucleotide_sequence(sequence, \"T\")\n",
        "nucleotide_seq_G = get_nucleotide_sequence(sequence, \"G\")\n",
        "nucleotide_seq_C = get_nucleotide_sequence(sequence, \"C\")\n",
        "\n",
        "# Cetak hasil ekstraksi\n",
        "print(f\"Nucleotide A sequence: {nucleotide_seq_A}\")\n",
        "print(f\"Nucleotide T sequence: {nucleotide_seq_T}\")\n",
        "print(f\"Nucleotide G sequence: {nucleotide_seq_G}\")\n",
        "print(f\"Nucleotide C sequence: {nucleotide_seq_C}\")\n",
        "\n",
        "# Hitung dan tampilkan berat molekul masing-masing\n",
        "mw_A = molecular_weight(nucleotide_seq_A)\n",
        "mw_T = molecular_weight(nucleotide_seq_T)\n",
        "mw_G = molecular_weight(nucleotide_seq_G)\n",
        "mw_C = molecular_weight(nucleotide_seq_C)\n",
        "\n",
        "print(f\"Molecular weight of A sequence: {mw_A}\")\n",
        "print(f\"Molecular weight of T sequence: {mw_T}\")\n",
        "print(f\"Molecular weight of G sequence: {mw_G}\")\n",
        "print(f\"Molecular weight of C sequence: {mw_C}\")\n"
      ],
      "metadata": {
        "colab": {
          "base_uri": "https://localhost:8080/"
        },
        "id": "aLtYoAjnsBAL",
        "outputId": "c7e9d066-8c43-4bde-a175-3c487ff592c9"
      },
      "execution_count": 23,
      "outputs": [
        {
          "output_type": "stream",
          "name": "stdout",
          "text": [
            "Nucleotide A sequence: AAAAAAA\n",
            "Nucleotide T sequence: TTTTTTT\n",
            "Nucleotide G sequence: GGGGGGG\n",
            "Nucleotide C sequence: CCCCCCC\n",
            "Molecular weight of A sequence: 2210.4608\n",
            "Molecular weight of T sequence: 2147.3677\n",
            "Molecular weight of G sequence: 2322.4566\n",
            "Molecular weight of C sequence: 2042.2878999999996\n"
          ]
        }
      ]
    },
    {
      "cell_type": "code",
      "source": [
        "mw_G = molecular_weight(nucleotide_seq_G)\n",
        "mw_C = molecular_weight(nucleotide_seq_C)\n",
        "mw_A = molecular_weight(nucleotide_seq_A)\n",
        "mw_T = molecular_weight(nucleotide_seq_T)"
      ],
      "metadata": {
        "id": "oiLfF_YpsCve"
      },
      "execution_count": 22,
      "outputs": []
    }
  ]
}
